{
  "nbformat": 4,
  "nbformat_minor": 0,
  "metadata": {
    "colab": {
      "provenance": [],
      "authorship_tag": "ABX9TyOfHNOIwqhWcEbeRSbLZr8Z",
      "include_colab_link": true
    },
    "kernelspec": {
      "name": "python3",
      "display_name": "Python 3"
    },
    "language_info": {
      "name": "python"
    }
  },
  "cells": [
    {
      "cell_type": "markdown",
      "metadata": {
        "id": "view-in-github",
        "colab_type": "text"
      },
      "source": [
        "<a href=\"https://colab.research.google.com/github/nakampany/object-programing/blob/master/class_method.ipynb\" target=\"_parent\"><img src=\"https://colab.research.google.com/assets/colab-badge.svg\" alt=\"Open In Colab\"/></a>"
      ]
    },
    {
      "cell_type": "markdown",
      "source": [
        "# SoccerPlayerクラスとBaseballPlayerクラス"
      ],
      "metadata": {
        "id": "G3qPI7k2MMjR"
      }
    },
    {
      "cell_type": "markdown",
      "source": [
        "Pythonでクラスを継承させる方法と、super()の使い方について"
      ],
      "metadata": {
        "id": "1-TF2ET9RNGQ"
      }
    },
    {
      "cell_type": "code",
      "execution_count": null,
      "metadata": {
        "id": "ECG-k7UZL4YE"
      },
      "outputs": [],
      "source": [
        "class SoccerPlayer:\n",
        "    \"\"\"サッカー選手 クラス\"\"\"\n",
        "    def __init__(self, name, age):\n",
        "        self.name = name\n",
        "        self.age = age\n",
        "\n",
        "    def self_introduce(self):\n",
        "        print(f\"私の名前は{self.name}、{self.age}才です。\")\n",
        "\n",
        "    def kick(self):\n",
        "        print(\"キック!\")\n",
        "\n",
        "class BaseballPlayer:\n",
        "    \"\"\"野球選手 クラス\"\"\"\n",
        "    def __init__(self, name, age):\n",
        "        self.name = name\n",
        "        self.age = age\n",
        "\n",
        "    def self_introduce(self):\n",
        "        print(f\"私の名前は{self.name}、{self.age}才です。\")\n",
        "\n",
        "    def catch(self):\n",
        "        print(\"キャッチ\")"
      ]
    },
    {
      "cell_type": "code",
      "source": [
        "class Person:\n",
        "    \"\"\"人 クラス\"\"\"\n",
        "    def __init__(self, name, age):\n",
        "        self.name = name\n",
        "        self.age = age\n",
        "\n",
        "    def self_introduce(self):\n",
        "        print(f\"私の名前は{self.name}、{self.age}才です。\")\n",
        "\n",
        "\n",
        "# クラス名の後ろに(Person)をつけて、Personクラスを継承したクラスにする\n",
        "class SoccerPlayer(Person):\n",
        "    \"\"\"サッカー選手 クラス\"\"\"\n",
        "\n",
        "    def kick(self):\n",
        "        print(\"キック!\")\n",
        "\n",
        "# クラス名の後ろに(Person)をつけて、Personクラスを継承したクラスにする\n",
        "class BaseballPlayer(Person):\n",
        "    \"\"\"野球選手 クラス\"\"\"\n",
        "\n",
        "    def catch(self):\n",
        "        print(\"キャッチ\")\n",
        "\n",
        "s1 = SoccerPlayer(\"本田\", 20)\n",
        "b1 = BaseballPlayer(\"長嶋\", 30)\n",
        "\n",
        "# SoccerPlayer・BaseBallPlayerクラスは、Personクラスを継承しているのでPersonクラスのメソッド(self_introduce)が使える\n",
        "s1.self_introduce()\n",
        "b1.self_introduce()\n",
        "# 出力結果\n",
        "# 私の名前は本田、20才です。\n",
        "# 私の名前は長嶋、30才です。"
      ],
      "metadata": {
        "colab": {
          "base_uri": "https://localhost:8080/"
        },
        "id": "0eBK9JDXPN1I",
        "outputId": "c7d8f882-6064-4af7-eee3-afdf2ab70bfb"
      },
      "execution_count": null,
      "outputs": [
        {
          "output_type": "stream",
          "name": "stdout",
          "text": [
            "私の名前は本田、20才です。\n",
            "私の名前は長嶋、30才です。\n"
          ]
        }
      ]
    },
    {
      "cell_type": "code",
      "source": [
        "class Person:\n",
        "    \"\"\"人 クラス\"\"\"\n",
        "    def __init__(self, name, age):\n",
        "        self.name = name\n",
        "        self.age = age\n",
        "\n",
        "    def self_introduce(self):\n",
        "        print(f\"私の名前は{self.name}、{self.age}才です。\")\n",
        "\n",
        "\n",
        "class SoccerPlayer(Person):\n",
        "    \"\"\"サッカー選手 クラス\"\"\"\n",
        "\n",
        "    # 親クラスと同じ名前のメソッドを定義する。\n",
        "    def self_introduce(self):\n",
        "        print(f\"サッカー選手をやっている{self.name}と申します。\")\n",
        "\n",
        "    def kick(self):\n",
        "        print(\"キック!\")\n",
        "\n",
        "\n",
        "s1 = SoccerPlayer(\"本田\", 20)\n",
        "\n",
        "# 子クラスのself_introduceが実行される\n",
        "s1.self_introduce()\n",
        "# 出力結果\n",
        "# サッカー選手をやっている本田と申します。"
      ],
      "metadata": {
        "colab": {
          "base_uri": "https://localhost:8080/"
        },
        "id": "BTMT9T5aQq3u",
        "outputId": "bd6cec7a-21bb-4452-a3a8-353bae84f8c8"
      },
      "execution_count": null,
      "outputs": [
        {
          "output_type": "stream",
          "name": "stdout",
          "text": [
            "サッカー選手をやっている本田と申します。\n"
          ]
        }
      ]
    },
    {
      "cell_type": "code",
      "source": [
        "class Person:\n",
        "    \"\"\"人 クラス\"\"\"\n",
        "    def __init__(self, name, age):\n",
        "        self.name = name\n",
        "        self.age = age\n",
        "\n",
        "    def self_introduce(self):\n",
        "        print(f\"私の名前は{self.name}、{self.age}才です。\")\n",
        "\n",
        "\n",
        "class SoccerPlayer(Person):\n",
        "    \"\"\"サッカー選手 クラス\"\"\"\n",
        "\n",
        "    def self_introduce(self):\n",
        "        # 親クラスのメソッドを呼び出す\n",
        "        super().self_introduce()\n",
        "        print(f\"サッカー選手をやっています。\")\n",
        "\n",
        "    def kick(self):\n",
        "        print(\"キック!\")\n",
        "\n",
        "s1 = SoccerPlayer(\"本田\", 20)\n",
        "s1.self_introduce()\n",
        "\n",
        "# 出力結果\n",
        "# 私の名前は本田、20才です。\n",
        "# サッカー選手をやっています。"
      ],
      "metadata": {
        "colab": {
          "base_uri": "https://localhost:8080/"
        },
        "id": "ynXShgtVQ7s_",
        "outputId": "762d8bb3-f481-465b-9867-7aed2926352f"
      },
      "execution_count": null,
      "outputs": [
        {
          "output_type": "stream",
          "name": "stdout",
          "text": [
            "私の名前は本田、20才です。\n",
            "サッカー選手をやっています。\n"
          ]
        }
      ]
    },
    {
      "cell_type": "code",
      "source": [
        "class Person:\n",
        "    \"\"\"人 クラス\"\"\"\n",
        "    def __init__(self, name, age):\n",
        "        self.name = name\n",
        "        self.age = age\n",
        "\n",
        "    def self_introduce(self):\n",
        "        print(f\"私の名前は{self.name}、{self.age}才です。\")\n",
        "\n",
        "\n",
        "class SoccerPlayer(Person):\n",
        "    \"\"\"サッカー選手 クラス\"\"\"\n",
        "\n",
        "    def __init__(self, name, age, is_daihyo):\n",
        "        # 親クラスの__init__を呼び出す。\n",
        "        super().__init__(name, age)\n",
        "        # is_daihyo属性はSoccerPlayerクラス固有の属性なのでここで値設定する\n",
        "        self.is_daihyo = is_daihyo\n",
        "\n",
        "    def self_introduce(self):\n",
        "        super().self_introduce()\n",
        "        print(f\"サッカー選手をやっています。\")\n",
        "        # 追加\n",
        "        if self.is_daihyo:\n",
        "            print(\"日本代表選手です。\")\n",
        "\n",
        "    def kick(self):\n",
        "        print(\"キック!\")\n",
        "\n",
        "s1 = SoccerPlayer(\"本田\", 20, True)\n",
        "\n",
        "s1.self_introduce()\n",
        "#  出力結果\n",
        "# 私の名前は本田、20才です。\n",
        "# サッカー選手をやっています。\n",
        "# 日本代表選手です。"
      ],
      "metadata": {
        "colab": {
          "base_uri": "https://localhost:8080/"
        },
        "id": "qPMMzkSyQ_p2",
        "outputId": "456c76e5-831c-4466-fec5-0c9ad4f3c55a"
      },
      "execution_count": null,
      "outputs": [
        {
          "output_type": "stream",
          "name": "stdout",
          "text": [
            "私の名前は本田、20才です。\n",
            "サッカー選手をやっています。\n",
            "日本代表選手です。\n"
          ]
        }
      ]
    }
  ]
}